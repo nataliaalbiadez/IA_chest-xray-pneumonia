{
  "nbformat": 4,
  "nbformat_minor": 0,
  "metadata": {
    "colab": {
      "name": " IA_PROYECTO_XRay.ipynb",
      "provenance": [],
      "collapsed_sections": [],
      "machine_shape": "hm"
    },
    "kernelspec": {
      "name": "python3",
      "display_name": "Python 3"
    }
  },
  "cells": [
    {
      "cell_type": "code",
      "metadata": {
        "id": "uggnIlOH10Xb",
        "colab_type": "code",
        "outputId": "33ab379b-96c4-412a-fbaa-260d52c61d4a",
        "colab": {
          "base_uri": "https://localhost:8080/",
          "height": 122
        }
      },
      "source": [
        " \n",
        "from google.colab import drive\n",
        "drive.mount('/content/drive')\n"
      ],
      "execution_count": 1,
      "outputs": [
        {
          "output_type": "stream",
          "text": [
            "Go to this URL in a browser: https://accounts.google.com/o/oauth2/auth?client_id=947318989803-6bn6qk8qdgf4n4g3pfee6491hc0brc4i.apps.googleusercontent.com&redirect_uri=urn%3aietf%3awg%3aoauth%3a2.0%3aoob&response_type=code&scope=email%20https%3a%2f%2fwww.googleapis.com%2fauth%2fdocs.test%20https%3a%2f%2fwww.googleapis.com%2fauth%2fdrive%20https%3a%2f%2fwww.googleapis.com%2fauth%2fdrive.photos.readonly%20https%3a%2f%2fwww.googleapis.com%2fauth%2fpeopleapi.readonly\n",
            "\n",
            "Enter your authorization code:\n",
            "··········\n",
            "Mounted at /content/drive\n"
          ],
          "name": "stdout"
        }
      ]
    },
    {
      "cell_type": "code",
      "metadata": {
        "id": "04jGnNLhst-5",
        "colab_type": "code",
        "colab": {}
      },
      "source": [
        "\n",
        "#Librerias \n",
        "import pandas as pd\n",
        "import numpy as np\n",
        "import cv2\n",
        "import os"
      ],
      "execution_count": 0,
      "outputs": []
    },
    {
      "cell_type": "code",
      "metadata": {
        "id": "JiAX7xtot8nO",
        "colab_type": "code",
        "colab": {}
      },
      "source": [
        "#especifica la ruta y lee el nombre de los documentos dentro de dicha carpeta\n",
        "path_classes = '/content/drive/My Drive/DATASETS_PRUEBA/train/NORMAL'\n",
        "classes_names = os.listdir(path_classes)\n",
        "#creamos dos listas para empezar a guardar las imagenes \n",
        "X=[] #lista con caracteristicas \n",
        "y=[] #lista con etiquetas\n",
        "dim = (150,150)\n",
        "\n",
        "\n",
        "#carga la imagenes\n",
        "for i in classes_names:\n",
        "  img = cv2.imread(path_classes+'/'+i) #libreria de openCv para leer imagenes y videos \n",
        "  # guardamos la imagen con ese nombre porque en py es comun utilizar toda la ruta\n",
        "  gray = cv2.cvtColor(img, cv2.COLOR_BGR2GRAY) #convertir una imagen de color a escala de grises\n",
        "  gray = cv2.resize(gray, dim)\n",
        "\n",
        "  X.append(gray.flatten()) #guarda la imagen en la lista \n",
        "  y.append(0) \n",
        "  #0 normal\n",
        "  #1 neumonia\n",
        "  "
      ],
      "execution_count": 0,
      "outputs": []
    },
    {
      "cell_type": "code",
      "metadata": {
        "id": "Q-6mHPOl2HGX",
        "colab_type": "code",
        "colab": {}
      },
      "source": [
        "#especifica la ruta y lee el nombre de los documentos dentro de dicha carpeta\n",
        "path_classes = '/content/drive/My Drive/DATASETS_PRUEBA/train/PNEUMONIA'\n",
        "classes_names = os.listdir(path_classes) #lista los archivos y guarda el nombre de cada uno en un vector\n",
        "dim = (150,150)\n",
        "\n",
        "#carga la imagenes\n",
        "for i in classes_names:\n",
        "  img = cv2.imread(path_classes+'/'+i) #libreria de openCv para leer imagenes y videos // guardamos la imagen con ese nombre porque en py es comun utilizar toda la ruta\n",
        "  gray = cv2.cvtColor(img, cv2.COLOR_BGR2GRAY) #convertir una imagen de color a escala de grises\n",
        "  gray = cv2.resize(gray, dim)\n",
        "  X.append(gray.flatten()) #guarda la imagen en la lista \n",
        "  y.append(1) #1 Neumonia"
      ],
      "execution_count": 0,
      "outputs": []
    },
    {
      "cell_type": "code",
      "metadata": {
        "id": "JDWi9j_ICFXc",
        "colab_type": "code",
        "outputId": "2ef3839a-7e30-4661-eb59-bd3762c03121",
        "colab": {
          "base_uri": "https://localhost:8080/",
          "height": 34
        }
      },
      "source": [
        "perm = np.random.permutation(range(len(X)))\n",
        "X= np.r_[X]\n",
        "y=np.r_[y]\n",
        "X=X[perm]\n",
        "y=y[perm]\n",
        "print(X.shape, type(X)) \n"
      ],
      "execution_count": 5,
      "outputs": [
        {
          "output_type": "stream",
          "text": [
            "(2714, 22500) <class 'numpy.ndarray'>\n"
          ],
          "name": "stdout"
        }
      ]
    },
    {
      "cell_type": "code",
      "metadata": {
        "id": "5YpWhocBIGDl",
        "colab_type": "code",
        "colab": {}
      },
      "source": [
        "from sklearn.datasets import *\n",
        "import numpy as np  \n",
        "import matplotlib.pyplot as plt\n",
        "%matplotlib inline\n",
        "from sklearn.cluster import KMeans "
      ],
      "execution_count": 0,
      "outputs": []
    },
    {
      "cell_type": "markdown",
      "metadata": {
        "id": "pQsG73h5L5dD",
        "colab_type": "text"
      },
      "source": [
        "**SIMULACIÓN CON DISTINTOS CLASIFICADDORES**"
      ]
    },
    {
      "cell_type": "markdown",
      "metadata": {
        "id": "QWrnqW_DMSH1",
        "colab_type": "text"
      },
      "source": [
        "**DESISION TREE CLASSIFIER**"
      ]
    },
    {
      "cell_type": "code",
      "metadata": {
        "id": "FtjsY0XIUO3F",
        "colab_type": "code",
        "outputId": "2e061e4b-b34b-4793-90dc-8fc27721230f",
        "colab": {
          "base_uri": "https://localhost:8080/",
          "height": 34
        }
      },
      "source": [
        "from sklearn.utils import shuffle\n",
        "from sklearn.tree import DecisionTreeClassifier\n",
        "from sklearn.model_selection import cross_val_score\n",
        "from sklearn.metrics import accuracy_score \n",
        "\n",
        "est = DecisionTreeClassifier(max_depth=20) #maxima profundidad del arbol\n",
        "X_s, y_s = shuffle(X,y, random_state=0)\n",
        "\n",
        "\n",
        "n=int(len(X_s)*0.70) #cantidad de datos para train 70%\n",
        "est.fit(X_s[:n], y_s[:n])\n",
        "\n",
        "print('%.3f'%accuracy_score(est.predict(X_s[n:]),y_s[n:]))"
      ],
      "execution_count": 7,
      "outputs": [
        {
          "output_type": "stream",
          "text": [
            "0.859\n"
          ],
          "name": "stdout"
        }
      ]
    },
    {
      "cell_type": "markdown",
      "metadata": {
        "id": "vNjlm-Z5Mhus",
        "colab_type": "text"
      },
      "source": [
        "**GAUSSIAN NB**"
      ]
    },
    {
      "cell_type": "code",
      "metadata": {
        "id": "I6eDR2W0B3zv",
        "colab_type": "code",
        "outputId": "ca54da87-94f8-43e4-8d9a-4f3809cdf23d",
        "colab": {
          "base_uri": "https://localhost:8080/",
          "height": 34
        }
      },
      "source": [
        "from sklearn.naive_bayes import GaussianNB\n",
        "from sklearn.model_selection import cross_val_score\n",
        "est = GaussianNB()\n",
        "\n",
        "est.fit(X,y)\n",
        "predictions = est.predict(X)\n",
        "print(\"%.3f\"%accuracy_score(predictions, y))"
      ],
      "execution_count": 8,
      "outputs": [
        {
          "output_type": "stream",
          "text": [
            "0.856\n"
          ],
          "name": "stdout"
        }
      ]
    },
    {
      "cell_type": "markdown",
      "metadata": {
        "id": "BwDW56_HM9Hh",
        "colab_type": "text"
      },
      "source": [
        "**RANDOM FOREST CLASSIFIER**"
      ]
    },
    {
      "cell_type": "code",
      "metadata": {
        "id": "xzLYUye8MpAr",
        "colab_type": "code",
        "outputId": "2a12bf7c-b8ed-464f-df1c-58dfaaa86803",
        "colab": {
          "base_uri": "https://localhost:8080/",
          "height": 34
        }
      },
      "source": [
        "from sklearn.ensemble import RandomForestClassifier\n",
        "from sklearn.model_selection import cross_val_score\n",
        "from sklearn.model_selection import KFold\n",
        "from sklearn.metrics import *\n",
        "\n",
        "est = RandomForestClassifier()\n",
        "\n",
        "s = cross_val_score(est, X, y, cv=KFold(10, shuffle=True), scoring=make_scorer(accuracy_score))\n",
        "print(\"accuracy %.3f (+/- %.5f)\"%(np.mean(s), np.std(s)))"
      ],
      "execution_count": 9,
      "outputs": [
        {
          "output_type": "stream",
          "text": [
            "accuracy 0.943 (+/- 0.01268)\n"
          ],
          "name": "stdout"
        }
      ]
    },
    {
      "cell_type": "markdown",
      "metadata": {
        "id": "ZK1xC_WVNlei",
        "colab_type": "text"
      },
      "source": [
        "**SVM**"
      ]
    },
    {
      "cell_type": "code",
      "metadata": {
        "id": "juORd3nQNcuD",
        "colab_type": "code",
        "outputId": "a4e680b7-c80f-41c7-d80d-e20632070538",
        "colab": {
          "base_uri": "https://localhost:8080/",
          "height": 34
        }
      },
      "source": [
        "from sklearn.svm import SVC\n",
        "from sklearn.model_selection import cross_val_score\n",
        "\n",
        "est = SVC()\n",
        "\n",
        "s = cross_val_score(est, X, y, cv=KFold(10, shuffle=True), scoring=make_scorer(accuracy_score))\n",
        "print(\"accuracy %.3f (+/- %.5f)\"%(np.mean(s), np.std(s)))"
      ],
      "execution_count": 10,
      "outputs": [
        {
          "output_type": "stream",
          "text": [
            "accuracy 0.961 (+/- 0.01021)\n"
          ],
          "name": "stdout"
        }
      ]
    },
    {
      "cell_type": "markdown",
      "metadata": {
        "id": "bLAAFSZjAzco",
        "colab_type": "text"
      },
      "source": [
        "**RED NEURONAL**"
      ]
    },
    {
      "cell_type": "code",
      "metadata": {
        "colab_type": "code",
        "id": "VYYPSmhiNBm-",
        "outputId": "ed8d4d06-f607-4858-a2a9-840d4f2c2cb4",
        "colab": {
          "base_uri": "https://localhost:8080/",
          "height": 51
        }
      },
      "source": [
        "data_train=X\n",
        "ytrain = y\n",
        "data_train=np.r_[data_train]\n",
        " \n",
        "#data_train = data_train.reshape([-1,150,150,1])\n",
        "#data_train= data_train.astype('float32')\n",
        "#data_train= data_train / 255\n",
        "\n",
        "# one hot encode outputs\n",
        "print(data_train.shape, type(X))\n",
        "print(ytrain.shape, type(y))\n",
        "#ytrain = np_utils.to_categorical(ytrain)"
      ],
      "execution_count": 11,
      "outputs": [
        {
          "output_type": "stream",
          "text": [
            "(2714, 22500) <class 'numpy.ndarray'>\n",
            "(2714,) <class 'numpy.ndarray'>\n"
          ],
          "name": "stdout"
        }
      ]
    },
    {
      "cell_type": "markdown",
      "metadata": {
        "id": "nP0E90uZPAxC",
        "colab_type": "text"
      },
      "source": [
        "**TEST**"
      ]
    },
    {
      "cell_type": "code",
      "metadata": {
        "colab_type": "code",
        "id": "zBJO-2NTLvGZ",
        "colab": {}
      },
      "source": [
        "#especifica la ruta y lee el nombre de los documentos dentro de dicha carpeta\n",
        "path_classes = '/content/drive/My Drive/DATASETS_PRUEBA/test/NORMAL'\n",
        "classes_names = os.listdir(path_classes)\n",
        "#creamos dos listas para empezar a guardar las imagenes \n",
        "X=[] #lista con caracteristicas \n",
        "y=[] #lista con etiquetas\n",
        "dim = (150,150)\n",
        "\n",
        "\n",
        "#carga la imagenes\n",
        "for i in classes_names:\n",
        "  img = cv2.imread(path_classes+'/'+i) #libreria de openCv para leer imagenes y videos // guardamos la imagen con ese nombre porque en py es comun utilizar toda la ruta\n",
        "  gray = cv2.cvtColor(img, cv2.COLOR_BGR2GRAY) #convertir una imagen de color a escala de grises\n",
        "  gray = cv2.resize(gray, dim)\n",
        "  X.append(gray.flatten()) #guarda la imagen en la lista \n",
        "  y.append(0) \n",
        "  #0 normal\n",
        "  #1 neumonia\n",
        "  "
      ],
      "execution_count": 0,
      "outputs": []
    },
    {
      "cell_type": "code",
      "metadata": {
        "colab_type": "code",
        "id": "x8DQdeP_MAxn",
        "colab": {}
      },
      "source": [
        "#especifica la ruta y lee el nombre de los documentos dentro de dicha carpeta\n",
        "path_classes = '/content/drive/My Drive/DATASETS_PRUEBA/test/PNEUMONIA'\n",
        "classes_names = os.listdir(path_classes) #lista los archivos y guarda el nombre de cada uno en un vector\n",
        "dim = (150,150)\n",
        "\n",
        "#carga la imagenes\n",
        "for i in classes_names:\n",
        "  img = cv2.imread(path_classes+'/'+i) #libreria de openCv para leer imagenes y videos // guardamos la imagen con ese nombre porque en py es comun utilizar toda la ruta\n",
        "  gray = cv2.cvtColor(img, cv2.COLOR_BGR2GRAY) #convertir una imagen de color a escala de grises\n",
        "  gray = cv2.resize(gray, dim)\n",
        "  X.append(gray.flatten()) #guarda la imagen en la lista \n",
        "  y.append(1) #1 Neumonia"
      ],
      "execution_count": 0,
      "outputs": []
    },
    {
      "cell_type": "code",
      "metadata": {
        "id": "sXkP9FxeMP_p",
        "colab_type": "code",
        "outputId": "416a5b1b-affd-47a3-ed43-b89272a577e2",
        "colab": {
          "base_uri": "https://localhost:8080/",
          "height": 51
        }
      },
      "source": [
        "perm = np.random.permutation(range(len(X)))\n",
        "X= np.r_[X]\n",
        "y=np.r_[y]\n",
        "X=X[perm]\n",
        "y=y[perm]\n",
        "#print(X.shape, type(X)) \n",
        "\n",
        "data_test=X\n",
        "ytest = y\n",
        "#data_test=np.r_[data_test]\n",
        " \n",
        "#data_train = data_train.reshape([-1,150,150,1])\n",
        "#data_test= data_test.astype('float32')\n",
        "#data_test= data_test / 255\n",
        "\n",
        "# one hot encode outputs\n",
        "print(data_test.shape, type(X))\n",
        "print(ytest.shape, type(y))\n"
      ],
      "execution_count": 14,
      "outputs": [
        {
          "output_type": "stream",
          "text": [
            "(624, 22500) <class 'numpy.ndarray'>\n",
            "(624,) <class 'numpy.ndarray'>\n"
          ],
          "name": "stdout"
        }
      ]
    },
    {
      "cell_type": "code",
      "metadata": {
        "id": "t_uTuISFv8gz",
        "colab_type": "code",
        "colab": {}
      },
      "source": [
        "import tensorflow as tf\n",
        "from tensorflow import keras"
      ],
      "execution_count": 0,
      "outputs": []
    },
    {
      "cell_type": "code",
      "metadata": {
        "id": "HDqTOb9VMrML",
        "colab_type": "code",
        "colab": {}
      },
      "source": [
        "#Crear modelo\n",
        "\n",
        "def create_model():\n",
        "  model = keras.models.Sequential([\n",
        "    keras.layers.Flatten( input_shape=X[0].shape), #1 capa flatten aplane mi entrada\n",
        "    keras.layers.Dense(200, activation=tf.nn.relu), # capa 2 oculta mide 50\n",
        "    keras.layers.Dense(100, activation=tf.nn.relu),\n",
        "    keras.layers.Dense(150, activation=tf.nn.relu),\n",
        "    keras.layers.Dense(50, activation=tf.nn.relu),\n",
        "\n",
        "\n",
        "    keras.layers.Dense(2, activation=tf.nn.softmax) # capa de salida \n",
        "    \n",
        "  ])\n",
        "  model.compile(optimizer='adam', \n",
        "              loss='sparse_categorical_crossentropy',\n",
        "              metrics=['accuracy'])\n",
        "  model.summary()\n",
        "  return model"
      ],
      "execution_count": 0,
      "outputs": []
    },
    {
      "cell_type": "code",
      "metadata": {
        "id": "c9dAbpWuvBuT",
        "colab_type": "code",
        "outputId": "db495aa3-b450-48f3-d455-e9ec5e4639be",
        "colab": {
          "base_uri": "https://localhost:8080/",
          "height": 1000
        }
      },
      "source": [
        "from sklearn.model_selection import KFold\n",
        " \n",
        "n_split=8\n",
        " \n",
        "for train_index,test_index in KFold(n_split).split(X):\n",
        "  data_train,data_test=X[train_index],X[test_index]\n",
        "  ytrain,ytest=y[train_index],y[test_index]\n",
        "  \n",
        "  model=create_model()\n",
        "  model.fit(data_train, ytrain,epochs=10, batch_size=100)\n",
        "  \n",
        "  print('Model evaluation ',model.evaluate(data_test,ytest))"
      ],
      "execution_count": 28,
      "outputs": [
        {
          "output_type": "stream",
          "text": [
            "Model: \"sequential_80\"\n",
            "_________________________________________________________________\n",
            "Layer (type)                 Output Shape              Param #   \n",
            "=================================================================\n",
            "flatten_80 (Flatten)         (None, 22500)             0         \n",
            "_________________________________________________________________\n",
            "dense_400 (Dense)            (None, 200)               4500200   \n",
            "_________________________________________________________________\n",
            "dense_401 (Dense)            (None, 100)               20100     \n",
            "_________________________________________________________________\n",
            "dense_402 (Dense)            (None, 150)               15150     \n",
            "_________________________________________________________________\n",
            "dense_403 (Dense)            (None, 50)                7550      \n",
            "_________________________________________________________________\n",
            "dense_404 (Dense)            (None, 2)                 102       \n",
            "=================================================================\n",
            "Total params: 4,543,102\n",
            "Trainable params: 4,543,102\n",
            "Non-trainable params: 0\n",
            "_________________________________________________________________\n",
            "Epoch 1/10\n",
            "6/6 [==============================] - 0s 23ms/step - loss: 351.9966 - accuracy: 0.4945\n",
            "Epoch 2/10\n",
            "6/6 [==============================] - 0s 24ms/step - loss: 223.4613 - accuracy: 0.5623\n",
            "Epoch 3/10\n",
            "6/6 [==============================] - 0s 23ms/step - loss: 94.9655 - accuracy: 0.6190\n",
            "Epoch 4/10\n",
            "6/6 [==============================] - 0s 24ms/step - loss: 75.1716 - accuracy: 0.6154\n",
            "Epoch 5/10\n",
            "6/6 [==============================] - 0s 23ms/step - loss: 38.6996 - accuracy: 0.7125\n",
            "Epoch 6/10\n",
            "6/6 [==============================] - 0s 23ms/step - loss: 14.8561 - accuracy: 0.8260\n",
            "Epoch 7/10\n",
            "6/6 [==============================] - 0s 24ms/step - loss: 24.2938 - accuracy: 0.7802\n",
            "Epoch 8/10\n",
            "6/6 [==============================] - 0s 24ms/step - loss: 22.8163 - accuracy: 0.8004\n",
            "Epoch 9/10\n",
            "6/6 [==============================] - 0s 23ms/step - loss: 9.7536 - accuracy: 0.8626\n",
            "Epoch 10/10\n",
            "6/6 [==============================] - 0s 23ms/step - loss: 7.4834 - accuracy: 0.8791\n",
            "3/3 [==============================] - 0s 5ms/step - loss: 12.4811 - accuracy: 0.8077\n",
            "Model evaluation  [12.481060028076172, 0.807692289352417]\n",
            "Model: \"sequential_81\"\n",
            "_________________________________________________________________\n",
            "Layer (type)                 Output Shape              Param #   \n",
            "=================================================================\n",
            "flatten_81 (Flatten)         (None, 22500)             0         \n",
            "_________________________________________________________________\n",
            "dense_405 (Dense)            (None, 200)               4500200   \n",
            "_________________________________________________________________\n",
            "dense_406 (Dense)            (None, 100)               20100     \n",
            "_________________________________________________________________\n",
            "dense_407 (Dense)            (None, 150)               15150     \n",
            "_________________________________________________________________\n",
            "dense_408 (Dense)            (None, 50)                7550      \n",
            "_________________________________________________________________\n",
            "dense_409 (Dense)            (None, 2)                 102       \n",
            "=================================================================\n",
            "Total params: 4,543,102\n",
            "Trainable params: 4,543,102\n",
            "Non-trainable params: 0\n",
            "_________________________________________________________________\n",
            "Epoch 1/10\n",
            "6/6 [==============================] - 0s 24ms/step - loss: 814.8872 - accuracy: 0.4835\n",
            "Epoch 2/10\n",
            "6/6 [==============================] - 0s 26ms/step - loss: 387.2318 - accuracy: 0.5842\n",
            "Epoch 3/10\n",
            "6/6 [==============================] - 0s 23ms/step - loss: 299.7352 - accuracy: 0.5256\n",
            "Epoch 4/10\n",
            "6/6 [==============================] - 0s 23ms/step - loss: 325.2534 - accuracy: 0.5733\n",
            "Epoch 5/10\n",
            "6/6 [==============================] - 0s 24ms/step - loss: 161.9277 - accuracy: 0.6538\n",
            "Epoch 6/10\n",
            "6/6 [==============================] - 0s 23ms/step - loss: 122.2408 - accuracy: 0.6703\n",
            "Epoch 7/10\n",
            "6/6 [==============================] - 0s 24ms/step - loss: 71.7639 - accuracy: 0.7674\n",
            "Epoch 8/10\n",
            "6/6 [==============================] - 0s 23ms/step - loss: 39.7057 - accuracy: 0.7619\n",
            "Epoch 9/10\n",
            "6/6 [==============================] - 0s 23ms/step - loss: 32.7673 - accuracy: 0.7894\n",
            "Epoch 10/10\n",
            "6/6 [==============================] - 0s 23ms/step - loss: 22.2246 - accuracy: 0.8260\n",
            "3/3 [==============================] - 0s 4ms/step - loss: 11.1332 - accuracy: 0.8590\n",
            "Model evaluation  [11.133228302001953, 0.8589743375778198]\n",
            "Model: \"sequential_82\"\n",
            "_________________________________________________________________\n",
            "Layer (type)                 Output Shape              Param #   \n",
            "=================================================================\n",
            "flatten_82 (Flatten)         (None, 22500)             0         \n",
            "_________________________________________________________________\n",
            "dense_410 (Dense)            (None, 200)               4500200   \n",
            "_________________________________________________________________\n",
            "dense_411 (Dense)            (None, 100)               20100     \n",
            "_________________________________________________________________\n",
            "dense_412 (Dense)            (None, 150)               15150     \n",
            "_________________________________________________________________\n",
            "dense_413 (Dense)            (None, 50)                7550      \n",
            "_________________________________________________________________\n",
            "dense_414 (Dense)            (None, 2)                 102       \n",
            "=================================================================\n",
            "Total params: 4,543,102\n",
            "Trainable params: 4,543,102\n",
            "Non-trainable params: 0\n",
            "_________________________________________________________________\n",
            "Epoch 1/10\n",
            "6/6 [==============================] - 0s 23ms/step - loss: 718.1339 - accuracy: 0.5183\n",
            "Epoch 2/10\n",
            "6/6 [==============================] - 0s 24ms/step - loss: 110.6091 - accuracy: 0.5549\n",
            "Epoch 3/10\n",
            "6/6 [==============================] - 0s 23ms/step - loss: 87.7548 - accuracy: 0.6190\n",
            "Epoch 4/10\n",
            "6/6 [==============================] - 0s 23ms/step - loss: 34.2043 - accuracy: 0.6392\n",
            "Epoch 5/10\n",
            "6/6 [==============================] - 0s 22ms/step - loss: 29.4778 - accuracy: 0.6886\n",
            "Epoch 6/10\n",
            "6/6 [==============================] - 0s 23ms/step - loss: 14.4337 - accuracy: 0.7656\n",
            "Epoch 7/10\n",
            "6/6 [==============================] - 0s 23ms/step - loss: 24.3804 - accuracy: 0.6905\n",
            "Epoch 8/10\n",
            "6/6 [==============================] - 0s 23ms/step - loss: 29.3094 - accuracy: 0.7216\n",
            "Epoch 9/10\n",
            "6/6 [==============================] - 0s 24ms/step - loss: 12.5883 - accuracy: 0.8168\n",
            "Epoch 10/10\n",
            "6/6 [==============================] - 0s 23ms/step - loss: 21.4635 - accuracy: 0.7454\n",
            "3/3 [==============================] - 0s 5ms/step - loss: 46.7327 - accuracy: 0.6026\n",
            "Model evaluation  [46.73271560668945, 0.6025640964508057]\n",
            "Model: \"sequential_83\"\n",
            "_________________________________________________________________\n",
            "Layer (type)                 Output Shape              Param #   \n",
            "=================================================================\n",
            "flatten_83 (Flatten)         (None, 22500)             0         \n",
            "_________________________________________________________________\n",
            "dense_415 (Dense)            (None, 200)               4500200   \n",
            "_________________________________________________________________\n",
            "dense_416 (Dense)            (None, 100)               20100     \n",
            "_________________________________________________________________\n",
            "dense_417 (Dense)            (None, 150)               15150     \n",
            "_________________________________________________________________\n",
            "dense_418 (Dense)            (None, 50)                7550      \n",
            "_________________________________________________________________\n",
            "dense_419 (Dense)            (None, 2)                 102       \n",
            "=================================================================\n",
            "Total params: 4,543,102\n",
            "Trainable params: 4,543,102\n",
            "Non-trainable params: 0\n",
            "_________________________________________________________________\n",
            "Epoch 1/10\n",
            "6/6 [==============================] - 0s 24ms/step - loss: 568.1636 - accuracy: 0.4982\n",
            "Epoch 2/10\n",
            "6/6 [==============================] - 0s 23ms/step - loss: 655.3024 - accuracy: 0.5769\n",
            "Epoch 3/10\n",
            "6/6 [==============================] - 0s 25ms/step - loss: 723.5085 - accuracy: 0.5165\n",
            "Epoch 4/10\n",
            "6/6 [==============================] - 0s 23ms/step - loss: 279.4544 - accuracy: 0.5806\n",
            "Epoch 5/10\n",
            "6/6 [==============================] - 0s 24ms/step - loss: 65.6285 - accuracy: 0.6484\n",
            "Epoch 6/10\n",
            "6/6 [==============================] - 0s 24ms/step - loss: 78.7259 - accuracy: 0.6447\n",
            "Epoch 7/10\n",
            "6/6 [==============================] - 0s 23ms/step - loss: 36.9779 - accuracy: 0.7473\n",
            "Epoch 8/10\n",
            "6/6 [==============================] - 0s 23ms/step - loss: 13.0229 - accuracy: 0.8498\n",
            "Epoch 9/10\n",
            "6/6 [==============================] - 0s 23ms/step - loss: 11.0938 - accuracy: 0.8059\n",
            "Epoch 10/10\n",
            "6/6 [==============================] - 0s 23ms/step - loss: 11.3278 - accuracy: 0.8645\n",
            "3/3 [==============================] - 0s 4ms/step - loss: 8.0823 - accuracy: 0.8462\n",
            "Model evaluation  [8.0823335647583, 0.8461538553237915]\n",
            "Model: \"sequential_84\"\n",
            "_________________________________________________________________\n",
            "Layer (type)                 Output Shape              Param #   \n",
            "=================================================================\n",
            "flatten_84 (Flatten)         (None, 22500)             0         \n",
            "_________________________________________________________________\n",
            "dense_420 (Dense)            (None, 200)               4500200   \n",
            "_________________________________________________________________\n",
            "dense_421 (Dense)            (None, 100)               20100     \n",
            "_________________________________________________________________\n",
            "dense_422 (Dense)            (None, 150)               15150     \n",
            "_________________________________________________________________\n",
            "dense_423 (Dense)            (None, 50)                7550      \n",
            "_________________________________________________________________\n",
            "dense_424 (Dense)            (None, 2)                 102       \n",
            "=================================================================\n",
            "Total params: 4,543,102\n",
            "Trainable params: 4,543,102\n",
            "Non-trainable params: 0\n",
            "_________________________________________________________________\n",
            "Epoch 1/10\n",
            "6/6 [==============================] - 0s 23ms/step - loss: 356.5555 - accuracy: 0.5275\n",
            "Epoch 2/10\n",
            "6/6 [==============================] - 0s 24ms/step - loss: 443.7354 - accuracy: 0.5055\n",
            "Epoch 3/10\n",
            "6/6 [==============================] - 0s 24ms/step - loss: 209.1441 - accuracy: 0.5751\n",
            "Epoch 4/10\n",
            "6/6 [==============================] - 0s 24ms/step - loss: 190.7980 - accuracy: 0.5275\n",
            "Epoch 5/10\n",
            "6/6 [==============================] - 0s 23ms/step - loss: 134.6687 - accuracy: 0.5385\n",
            "Epoch 6/10\n",
            "6/6 [==============================] - 0s 23ms/step - loss: 95.2624 - accuracy: 0.6575\n",
            "Epoch 7/10\n",
            "6/6 [==============================] - 0s 23ms/step - loss: 69.6555 - accuracy: 0.7106\n",
            "Epoch 8/10\n",
            "6/6 [==============================] - 0s 24ms/step - loss: 31.8565 - accuracy: 0.8059\n",
            "Epoch 9/10\n",
            "6/6 [==============================] - 0s 23ms/step - loss: 21.7993 - accuracy: 0.8462\n",
            "Epoch 10/10\n",
            "6/6 [==============================] - 0s 23ms/step - loss: 23.0446 - accuracy: 0.8242\n",
            "3/3 [==============================] - 0s 4ms/step - loss: 33.1336 - accuracy: 0.7949\n",
            "Model evaluation  [33.13357162475586, 0.7948718070983887]\n",
            "Model: \"sequential_85\"\n",
            "_________________________________________________________________\n",
            "Layer (type)                 Output Shape              Param #   \n",
            "=================================================================\n",
            "flatten_85 (Flatten)         (None, 22500)             0         \n",
            "_________________________________________________________________\n",
            "dense_425 (Dense)            (None, 200)               4500200   \n",
            "_________________________________________________________________\n",
            "dense_426 (Dense)            (None, 100)               20100     \n",
            "_________________________________________________________________\n",
            "dense_427 (Dense)            (None, 150)               15150     \n",
            "_________________________________________________________________\n",
            "dense_428 (Dense)            (None, 50)                7550      \n",
            "_________________________________________________________________\n",
            "dense_429 (Dense)            (None, 2)                 102       \n",
            "=================================================================\n",
            "Total params: 4,543,102\n",
            "Trainable params: 4,543,102\n",
            "Non-trainable params: 0\n",
            "_________________________________________________________________\n",
            "Epoch 1/10\n",
            "6/6 [==============================] - 0s 24ms/step - loss: 409.2190 - accuracy: 0.4945\n",
            "Epoch 2/10\n",
            "6/6 [==============================] - 0s 24ms/step - loss: 222.3634 - accuracy: 0.5403\n",
            "Epoch 3/10\n",
            "6/6 [==============================] - 0s 24ms/step - loss: 187.1284 - accuracy: 0.5696\n",
            "Epoch 4/10\n",
            "6/6 [==============================] - 0s 25ms/step - loss: 102.1275 - accuracy: 0.5971\n",
            "Epoch 5/10\n",
            "6/6 [==============================] - 0s 24ms/step - loss: 56.6410 - accuracy: 0.6795\n",
            "Epoch 6/10\n",
            "6/6 [==============================] - 0s 23ms/step - loss: 15.9901 - accuracy: 0.8315\n",
            "Epoch 7/10\n",
            "6/6 [==============================] - 0s 23ms/step - loss: 15.8301 - accuracy: 0.8132\n",
            "Epoch 8/10\n",
            "6/6 [==============================] - 0s 23ms/step - loss: 21.6606 - accuracy: 0.7802\n",
            "Epoch 9/10\n",
            "6/6 [==============================] - 0s 23ms/step - loss: 11.8330 - accuracy: 0.8480\n",
            "Epoch 10/10\n",
            "6/6 [==============================] - 0s 24ms/step - loss: 8.8119 - accuracy: 0.8480\n",
            "3/3 [==============================] - 0s 4ms/step - loss: 4.9970 - accuracy: 0.8590\n",
            "Model evaluation  [4.997047424316406, 0.8589743375778198]\n",
            "Model: \"sequential_86\"\n",
            "_________________________________________________________________\n",
            "Layer (type)                 Output Shape              Param #   \n",
            "=================================================================\n",
            "flatten_86 (Flatten)         (None, 22500)             0         \n",
            "_________________________________________________________________\n",
            "dense_430 (Dense)            (None, 200)               4500200   \n",
            "_________________________________________________________________\n",
            "dense_431 (Dense)            (None, 100)               20100     \n",
            "_________________________________________________________________\n",
            "dense_432 (Dense)            (None, 150)               15150     \n",
            "_________________________________________________________________\n",
            "dense_433 (Dense)            (None, 50)                7550      \n",
            "_________________________________________________________________\n",
            "dense_434 (Dense)            (None, 2)                 102       \n",
            "=================================================================\n",
            "Total params: 4,543,102\n",
            "Trainable params: 4,543,102\n",
            "Non-trainable params: 0\n",
            "_________________________________________________________________\n",
            "Epoch 1/10\n",
            "6/6 [==============================] - 0s 24ms/step - loss: 850.4997 - accuracy: 0.4835\n",
            "Epoch 2/10\n",
            "6/6 [==============================] - 0s 23ms/step - loss: 610.5662 - accuracy: 0.5165\n",
            "Epoch 3/10\n",
            "6/6 [==============================] - 0s 24ms/step - loss: 676.0745 - accuracy: 0.4725\n",
            "Epoch 4/10\n",
            "6/6 [==============================] - 0s 24ms/step - loss: 302.3631 - accuracy: 0.5714\n",
            "Epoch 5/10\n",
            "6/6 [==============================] - 0s 23ms/step - loss: 92.9560 - accuracy: 0.6740\n",
            "Epoch 6/10\n",
            "6/6 [==============================] - 0s 23ms/step - loss: 24.7789 - accuracy: 0.8059\n",
            "Epoch 7/10\n",
            "6/6 [==============================] - 0s 23ms/step - loss: 24.9053 - accuracy: 0.8095\n",
            "Epoch 8/10\n",
            "6/6 [==============================] - 0s 24ms/step - loss: 28.7213 - accuracy: 0.8114\n",
            "Epoch 9/10\n",
            "6/6 [==============================] - 0s 23ms/step - loss: 11.2805 - accuracy: 0.8462\n",
            "Epoch 10/10\n",
            "6/6 [==============================] - 0s 23ms/step - loss: 9.4337 - accuracy: 0.8700\n",
            "3/3 [==============================] - 0s 5ms/step - loss: 10.4654 - accuracy: 0.9103\n",
            "Model evaluation  [10.46544361114502, 0.9102563858032227]\n",
            "Model: \"sequential_87\"\n",
            "_________________________________________________________________\n",
            "Layer (type)                 Output Shape              Param #   \n",
            "=================================================================\n",
            "flatten_87 (Flatten)         (None, 22500)             0         \n",
            "_________________________________________________________________\n",
            "dense_435 (Dense)            (None, 200)               4500200   \n",
            "_________________________________________________________________\n",
            "dense_436 (Dense)            (None, 100)               20100     \n",
            "_________________________________________________________________\n",
            "dense_437 (Dense)            (None, 150)               15150     \n",
            "_________________________________________________________________\n",
            "dense_438 (Dense)            (None, 50)                7550      \n",
            "_________________________________________________________________\n",
            "dense_439 (Dense)            (None, 2)                 102       \n",
            "=================================================================\n",
            "Total params: 4,543,102\n",
            "Trainable params: 4,543,102\n",
            "Non-trainable params: 0\n",
            "_________________________________________________________________\n",
            "Epoch 1/10\n",
            "6/6 [==============================] - 0s 23ms/step - loss: 643.4046 - accuracy: 0.5018\n",
            "Epoch 2/10\n",
            "6/6 [==============================] - 0s 23ms/step - loss: 201.4699 - accuracy: 0.6172\n",
            "Epoch 3/10\n",
            "6/6 [==============================] - 0s 24ms/step - loss: 371.3889 - accuracy: 0.5842\n",
            "Epoch 4/10\n",
            "6/6 [==============================] - 0s 23ms/step - loss: 182.3772 - accuracy: 0.5842\n",
            "Epoch 5/10\n",
            "6/6 [==============================] - 0s 24ms/step - loss: 80.6891 - accuracy: 0.6667\n",
            "Epoch 6/10\n",
            "6/6 [==============================] - 0s 23ms/step - loss: 30.4438 - accuracy: 0.7894\n",
            "Epoch 7/10\n",
            "6/6 [==============================] - 0s 25ms/step - loss: 25.9558 - accuracy: 0.7967\n",
            "Epoch 8/10\n",
            "6/6 [==============================] - 0s 23ms/step - loss: 22.2442 - accuracy: 0.8407\n",
            "Epoch 9/10\n",
            "6/6 [==============================] - 0s 23ms/step - loss: 25.1210 - accuracy: 0.8095\n",
            "Epoch 10/10\n",
            "6/6 [==============================] - 0s 23ms/step - loss: 24.5228 - accuracy: 0.8150\n",
            "3/3 [==============================] - 0s 4ms/step - loss: 8.7098 - accuracy: 0.8974\n",
            "Model evaluation  [8.70979118347168, 0.8974359035491943]\n"
          ],
          "name": "stdout"
        }
      ]
    },
    {
      "cell_type": "code",
      "metadata": {
        "id": "FPQs5r5vph_c",
        "colab_type": "code",
        "colab": {}
      },
      "source": [
        ""
      ],
      "execution_count": 0,
      "outputs": []
    }
  ]
}